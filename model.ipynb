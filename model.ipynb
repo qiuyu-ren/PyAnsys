{
 "cells": [
  {
   "cell_type": "code",
   "execution_count": 1,
   "id": "36f9211725e0e4bd",
   "metadata": {
    "ExecuteTime": {
     "end_time": "2025-05-08T17:03:14.455541Z",
     "start_time": "2025-05-08T17:03:05.398563Z"
    }
   },
   "outputs": [
    {
     "name": "stdout",
     "output_type": "stream",
     "text": [
      "[82, 87, 110]\n"
     ]
    },
    {
     "data": {
      "application/vnd.jupyter.widget-view+json": {
       "model_id": "e1c8eb6879db43f091bb236ece150b91",
       "version_major": 2,
       "version_minor": 0
      },
      "text/plain": [
       "Widget(value='<iframe src=\"http://localhost:52880/index.html?ui=P_0x24c5bcaeab0_0&reconnect=auto\" class=\"pyvis…"
      ]
     },
     "metadata": {},
     "output_type": "display_data"
    }
   ],
   "source": [
    "import numpy as np\n",
    "from ansys.mapdl.core import launch_mapdl\n",
    "\n",
    "# Launch MAPDL\n",
    "mapdl = launch_mapdl(loglevel=\"ERROR\")\n",
    "mapdl.clear()\n",
    "mapdl.prep7()\n",
    "mapdl.units(\"SI\")  # Use SI units\n",
    "\n",
    "# --- Define Materials ---\n",
    "# Material 1: Concrete (temperature-dependent)\n",
    "mapdl.mp(\"DENS\", 1, 2400)\n",
    "mapdl.mptemp(1, 100)\n",
    "mapdl.mptemp(2, 150)\n",
    "mapdl.mptemp(3, 200)\n",
    "mapdl.mptemp(4, 300)\n",
    "mapdl.mptemp(5, 400)\n",
    "mapdl.mpdata(\"C\", 1, 1, 900)\n",
    "mapdl.mpdata(\"C\", 1, 2, 950)\n",
    "mapdl.mpdata(\"C\", 1, 3, 1000)\n",
    "mapdl.mpdata(\"C\", 1, 4, 1050)\n",
    "mapdl.mpdata(\"C\", 1, 5, 1100)\n",
    "mapdl.mpdata(\"KXX\", 1, 1, 2.5)\n",
    "mapdl.mpdata(\"KXX\", 1, 2, 2.463)\n",
    "mapdl.mpdata(\"KXX\", 1, 3, 2.396)\n",
    "mapdl.mpdata(\"KXX\", 1, 4, 2.259)\n",
    "mapdl.mpdata(\"KXX\", 1, 5, 2.0)\n",
    "\n",
    "# Material 2: Structural Steel (assumed constant properties)\n",
    "mapdl.mp(\"DENS\", 2, 7850)\n",
    "mapdl.mp(\"C\", 2, 434)\n",
    "mapdl.mp(\"KXX\", 2, 60.5)\n",
    "\n",
    "# --- Geometry Parameters ---\n",
    "od_media = 0.254     # Outer diameter of media (m)\n",
    "od_hx = 0.0508       # Outer diameter of HX pipe (m)\n",
    "t_hx = 0.00635       # Wall thickness of pipe (m)\n",
    "id_hx = od_hx - 2 * t_hx  # Inner diameter of HX pipe (m)\n",
    "length = 0.508       # Cylinder height\n",
    "num_radial = 5\n",
    "num_circ = 20\n",
    "\n",
    "# --- Create Keypoints ---\n",
    "k0 = mapdl.k(\"\", 0, 0, 0)\n",
    "inner_kps = []\n",
    "outer_kps = []\n",
    "for i in range(num_circ):\n",
    "    angle = i * (360 / num_circ)\n",
    "    x_inner = (id_hx / 2) * np.cos(np.deg2rad(angle))\n",
    "    y_inner = (id_hx / 2) * np.sin(np.deg2rad(angle))\n",
    "    x_outer = (od_media / 2) * np.cos(np.deg2rad(angle))\n",
    "    y_outer = (od_media / 2) * np.sin(np.deg2rad(angle))\n",
    "    inner_kps.append(mapdl.k(\"\", x_inner, y_inner, 0))\n",
    "    outer_kps.append(mapdl.k(\"\", x_outer, y_outer, 0))\n",
    "\n",
    "# --- Create Lines and Areas ---\n",
    "inner_arcs = [mapdl.l(inner_kps[i], inner_kps[(i+1)%num_circ]) for i in range(num_circ)]\n",
    "outer_arcs = [mapdl.l(outer_kps[i], outer_kps[(i+1)%num_circ]) for i in range(num_circ)]\n",
    "radial_lines = [mapdl.l(inner_kps[i], outer_kps[i]) for i in range(num_circ)]\n",
    "areas = []\n",
    "for i in range(num_circ):\n",
    "    next_i = (i+1) % num_circ\n",
    "    lines = [inner_arcs[i], radial_lines[next_i], outer_arcs[i], radial_lines[i]]\n",
    "    areas.append(mapdl.al(*lines))\n",
    "\n",
    "# --- Set element type and mesh controls ---\n",
    "mapdl.et(1, \"SOLID70\")\n",
    "volumes = [mapdl.vext(a, dz=length) for a in areas]\n",
    "\n",
    "# Set radial mesh size\n",
    "mapdl.lsel(\"S\", \"LINE\", \"\", min(radial_lines), max(radial_lines))\n",
    "mapdl.lesize(\"ALL\", \"\", \"\", num_radial, 1)\n",
    "\n",
    "# Set axial mesh size\n",
    "num_z = 10\n",
    "mapdl.lsel(\"S\", \"LOC\", \"X\", 0)\n",
    "mapdl.lsel(\"R\", \"LOC\", \"Y\", 0)\n",
    "mapdl.lsel(\"R\", \"LOC\", \"Z\", 0, length)\n",
    "mapdl.lesize(\"ALL\", \"\", \"\", num_z, 1)\n",
    "mapdl.allsel()\n",
    "\n",
    "# --- Assign Material IDs Based on Radius ---\n",
    "r_inner_pipe = id_hx / 2\n",
    "r_outer_pipe = od_hx / 2\n",
    "\n",
    "num_vols = len(areas)  # 9 个区域 → 9 个体积\n",
    "\n",
    "for i in range(1, num_vols + 1):  # Volume IDs start from 1\n",
    "    mapdl.vsel(\"S\", \"VOLU\", \"\", i)\n",
    "    mapdl.vsum()\n",
    "\n",
    "    cx = mapdl.get(\"CXVAL\", \"VOLU\", 0, \"CENT\", \"X\")\n",
    "    cy = mapdl.get(\"CYVAL\", \"VOLU\", 0, \"CENT\", \"Y\")\n",
    "    r = np.sqrt(float(cx)**2 + float(cy)**2)\n",
    "\n",
    "    if r_inner_pipe <= r <= r_outer_pipe:\n",
    "        mapdl.mat(2)  # Structural steel\n",
    "        mapdl.vatt(2, 1, 1, 0)\n",
    "    elif r > r_outer_pipe:\n",
    "        mapdl.mat(1)  # Concrete\n",
    "        mapdl.vatt(1, 1, 1, 0)\n",
    "\n",
    "mapdl.allsel()\n",
    "mapdl.vmesh(\"ALL\")\n",
    "mapdl.smrtsize(2)\n",
    "\n",
    "# --- Plot Mesh ---\n",
    "mapdl.eplot(vtk=True, show_edges=True, line_width=1)\n",
    "\n"
   ]
  },
  {
   "cell_type": "code",
   "execution_count": 2,
   "id": "c20ae2ca337f34a",
   "metadata": {
    "ExecuteTime": {
     "end_time": "2025-05-07T16:10:48.230947400Z",
     "start_time": "2025-05-07T15:24:14.865970Z"
    }
   },
   "outputs": [
    {
     "data": {
      "text/plain": [
       "*****MAPDL VERIFICATION RUN ONLY*****\n",
       "     DO NOT USE RESULTS FOR PRODUCTION\n",
       "\n",
       "          ***** MAPDL RESULTS INTERPRETATION (POST1) *****\n",
       "\n",
       " *** NOTE ***                            CP =       0.000   TIME= 00:00:00\n",
       " Reading results into the database (SET command) will update the current \n",
       " displacement and force boundary conditions in the database with the     \n",
       " values from the results file for that load set.  Note that any          \n",
       " subsequent solutions will use these values unless action is taken to    \n",
       " either SAVE the current values or not overwrite them (/EXIT,NOSAVE)."
      ]
     },
     "execution_count": 2,
     "metadata": {},
     "output_type": "execute_result"
    }
   ],
   "source": [
    "mapdl.finish()\n",
    "mapdl.slashsolu()\n",
    "\n",
    "# Set Up Transient Analysis\n",
    "mapdl.antype(4)  # Transient thermal analysis\n",
    "mapdl.trnopt(\"FULL\")  # Full transient solution\n",
    "mapdl.kbc(0)  # Ramped loading (smooth boundary conditions)\n",
    "mapdl.timint(\"ON\")  # Enable time integration\n",
    "\n",
    "# Define initial condition (uniform temperature)\n",
    "mapdl.ic(\"ALL\", \"TEMP\", 100)  # Initial temperature of 100°C\n",
    "\n",
    "# Define time steps\n",
    "time_steps = np.linspace(0, 14400, 25)  # 0 to 14400 seconds in 24 steps\n",
    "\n",
    "temp_load = np.linspace(100, 400, len(time_steps))  # 每一步温度线性上升\n",
    "\n",
    "for i, t in enumerate(time_steps):\n",
    "    if i == 0:\n",
    "        continue  # skip initial step\n",
    "\n",
    "    mapdl.time(t)\n",
    "\n",
    "\n",
    "    inner_radius = id_hx / 2\n",
    "    tol = 0.01 * inner_radius\n",
    "\n",
    "    mapdl.nsel(\"S\", \"EXT\", \"\", inner_radius - tol, inner_radius + tol)\n",
    "    mapdl.nsel(\"R\", \"LOC\", \"Z\", 0, length)\n",
    "    mapdl.d(\"ALL\", \"TEMP\", temp_load[i])\n",
    "    mapdl.nsel(\"ALL\")\n",
    "\n",
    "\n",
    "    mapdl.autots(\"ON\")\n",
    "    mapdl.deltim(600)\n",
    "\n",
    "    mapdl.solve()\n",
    "\n",
    "mapdl.finish()\n",
    "mapdl.post1()"
   ]
  },
  {
   "cell_type": "code",
   "execution_count": 3,
   "id": "1a45f060906589a",
   "metadata": {
    "ExecuteTime": {
     "end_time": "2025-05-07T16:10:48.231949200Z",
     "start_time": "2025-04-29T18:18:44.147206Z"
    }
   },
   "outputs": [],
   "source": [
    "import os\n",
    "import pyvista as pv\n",
    "\n",
    "output_dir = \"temp_frames\"\n",
    "os.makedirs(output_dir, exist_ok=True)\n",
    "\n",
    "mapdl.post1()\n",
    "num_steps = len(time_steps)\n",
    "\n",
    "with open(\"temperature_output.txt\", \"w\") as f:\n",
    "    for i in range(1, num_steps):\n",
    "        mapdl.set(i) \n",
    "\n",
    "        mapdl.esel('S', 'MAT', '', 1)  # Select concrete elements (material ID 1)\n",
    "        mapdl.nsle()  # Select the nodes associated with concrete elements\n",
    "\n",
    "        temps = mapdl.post_processing.nodal_temperature()  # Get the temperatures for selected nodes\n",
    "\n",
    "        # If temps are not empty, get min, max, and average\n",
    "        if temps.any():\n",
    "            min_temp = np.min(temps)\n",
    "            max_temp = np.max(temps)\n",
    "            avg_temp = np.mean(temps)\n",
    "\n",
    "            # Write min, max, average to a file\n",
    "            f.writelines(f\"Step {i}: min={min_temp}, average={avg_temp}, max={max_temp}\\n\")\n",
    "        \n",
    "        # Create the plot\n",
    "        mesh = mapdl.mesh.grid\n",
    "        mesh.point_data[\"Temperature\"] = temps\n",
    "\n",
    "        plotter = pv.Plotter(off_screen=True, window_size=(800, 600))\n",
    "        plotter.add_mesh(\n",
    "            mesh,\n",
    "            scalars=\"Temperature\",\n",
    "            cmap=\"inferno\",\n",
    "            clim=[100, 400],\n",
    "            show_edges=False\n",
    "        )\n",
    "\n",
    "        plotter.add_scalar_bar(title=\"Temperature (°C)\")\n",
    "        plotter.view_vector((-1, -1, 0.5))\n",
    "        plotter.screenshot(f\"{output_dir}/frame_{i:03d}.png\")\n"
   ]
  },
  {
   "cell_type": "code",
   "execution_count": 4,
   "id": "5520e41af1e66941",
   "metadata": {
    "ExecuteTime": {
     "end_time": "2025-05-07T16:10:48.282344900Z",
     "start_time": "2025-04-29T18:18:53.258485Z"
    }
   },
   "outputs": [],
   "source": [
    "import imageio.v2 as imageio\n",
    "\n",
    "frames = [imageio.imread(f\"{output_dir}/frame_{i:03d}.png\") for i in range(1, num_steps)]\n",
    "imageio.mimsave(\"transient_temperature.gif\", frames, duration=0.5)\n"
   ]
  }
 ],
 "metadata": {
  "kernelspec": {
   "display_name": ".venv",
   "language": "python",
   "name": "python3"
  },
  "language_info": {
   "codemirror_mode": {
    "name": "ipython",
    "version": 3
   },
   "file_extension": ".py",
   "mimetype": "text/x-python",
   "name": "python",
   "nbconvert_exporter": "python",
   "pygments_lexer": "ipython3",
   "version": "3.12.10"
  }
 },
 "nbformat": 4,
 "nbformat_minor": 5
}
